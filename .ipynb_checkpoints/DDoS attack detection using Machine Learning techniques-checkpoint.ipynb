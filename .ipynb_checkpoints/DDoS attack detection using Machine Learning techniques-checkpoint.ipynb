{
 "cells": [
  {
   "cell_type": "markdown",
   "id": "e74f335f-257a-48c4-a053-22c9d9c8d142",
   "metadata": {},
   "source": [
    "Dataset to use: [CICEV2023 DDoS attack dataset](https://www.unb.ca/cic/datasets/cicev2023.html)"
   ]
  },
  {
   "cell_type": "code",
   "execution_count": null,
   "id": "c9c3b7af-df21-4c83-a812-790aad6d9225",
   "metadata": {},
   "outputs": [],
   "source": []
  }
 ],
 "metadata": {
  "kernelspec": {
   "display_name": "Python 3 (ipykernel)",
   "language": "python",
   "name": "python3"
  },
  "language_info": {
   "codemirror_mode": {
    "name": "ipython",
    "version": 3
   },
   "file_extension": ".py",
   "mimetype": "text/x-python",
   "name": "python",
   "nbconvert_exporter": "python",
   "pygments_lexer": "ipython3",
   "version": "3.10.9"
  }
 },
 "nbformat": 4,
 "nbformat_minor": 5
}
